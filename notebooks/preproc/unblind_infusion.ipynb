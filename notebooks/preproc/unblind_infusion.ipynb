{
 "cells": [
  {
   "cell_type": "code",
   "execution_count": 1,
   "metadata": {},
   "outputs": [
    {
     "name": "stderr",
     "output_type": "stream",
     "text": [
      "/data/MoodGroup/actigraphy/gavi/actigraPy/actigraPy/actigraPy.py:23: MatplotlibDeprecationWarning: \n",
      "The matplotlib.backends.tkagg module was deprecated in Matplotlib 3.0 and will be removed in 3.2.\n",
      "  import matplotlib.backends.tkagg as tkagg\n"
     ]
    }
   ],
   "source": [
    "import os,sys,inspect\n",
    "current_dir = os.path.dirname(os.path.abspath(inspect.getfile(inspect.currentframe())))\n",
    "parent_dir = os.path.dirname(current_dir)\n",
    "sys.path.insert(0, '/data/MoodGroup/actigraphy/gavi/actigraPy') \n",
    "\n",
    "import actigraPy.actigraPy as act\n",
    "import importlib\n",
    "import numpy as np\n",
    "import pandas as pd\n",
    "from datetime import datetime\n",
    "from datetime import timedelta"
   ]
  },
  {
   "cell_type": "markdown",
   "metadata": {},
   "source": [
    "## Subject and directory info"
   ]
  },
  {
   "cell_type": "code",
   "execution_count": 53,
   "metadata": {},
   "outputs": [],
   "source": [
    "# data and log directories\n",
    "sub = '101' #subject NUMBER as STRING\n",
    "sub_long = 'sub-MOA'+sub\n",
    "\n",
    "out_dir = '/data/MoodGroup/actigraphy/KMOA/derivatives/preproc/'+sub_long #output directory\n",
    "data_dir = '/data/MoodGroup/actigraphy/KMOA/raw/' + sub_long\n",
    "Mtimes_fn = os.path.join(out_dir,sub_long+'_Mtimes_edit.csv')\n",
    "awd_fn = os.path.join(data_dir, sub_long+'_0.AWD')\n",
    "if not os.path.exists(Mtimes_fn):\n",
    "    print('Check Mtimes_fn')\n",
    "if not os.path.exists(awd_fn):\n",
    "    print('Check AWD fn')"
   ]
  },
  {
   "cell_type": "code",
   "execution_count": 54,
   "metadata": {},
   "outputs": [],
   "source": [
    "awd_dat = act.read_AWD(awd_fn)"
   ]
  },
  {
   "cell_type": "code",
   "execution_count": 55,
   "metadata": {},
   "outputs": [],
   "source": [
    "dat = pd.read_csv('/data/MoodGroup/actigraphy/KMOA/KMOA_summary.csv')\n"
   ]
  },
  {
   "cell_type": "code",
   "execution_count": 56,
   "metadata": {},
   "outputs": [],
   "source": [
    "Mtimes = pd.read_csv(Mtimes_fn)"
   ]
  },
  {
   "cell_type": "code",
   "execution_count": 57,
   "metadata": {},
   "outputs": [],
   "source": [
    "infusions = np.where(Mtimes['Comment']=='Infusion')[0]"
   ]
  },
  {
   "cell_type": "code",
   "execution_count": 58,
   "metadata": {},
   "outputs": [
    {
     "name": "stderr",
     "output_type": "stream",
     "text": [
      "/data/MoodGroup/code/miniconda3/lib/python3.7/site-packages/ipykernel_launcher.py:1: FutureWarning: `item` has been deprecated and will be removed in a future version\n",
      "  \"\"\"Entry point for launching an IPython kernel.\n"
     ]
    }
   ],
   "source": [
    "drug= int(dat['drug'].loc[dat['sub_no']==int(sub)].item())\n",
    "if drug ==0:\n",
    "    new_comments=['Infusion (placebo)','Infusion (ketamine)']\n",
    "elif drug ==1:\n",
    "    new_comments=['Infusion (ketamine)','Infusion (placebo)']\n",
    "else:\n",
    "    print('check summary document - something is wrong')"
   ]
  },
  {
   "cell_type": "code",
   "execution_count": 59,
   "metadata": {},
   "outputs": [],
   "source": [
    "for ii,idx in enumerate(infusions):\n",
    "    Mtimes.loc[idx]['Comment']=new_comments[ii]"
   ]
  },
  {
   "cell_type": "code",
   "execution_count": 60,
   "metadata": {},
   "outputs": [],
   "source": [
    "Mtimes.to_csv(os.path.join(out_dir,sub_long+'_Mtimes_final.csv'))"
   ]
  },
  {
   "cell_type": "code",
   "execution_count": null,
   "metadata": {},
   "outputs": [],
   "source": []
  }
 ],
 "metadata": {
  "kernelspec": {
   "display_name": "Python 3",
   "language": "python",
   "name": "python3"
  },
  "language_info": {
   "codemirror_mode": {
    "name": "ipython",
    "version": 3
   },
   "file_extension": ".py",
   "mimetype": "text/x-python",
   "name": "python",
   "nbconvert_exporter": "python",
   "pygments_lexer": "ipython3",
   "version": "3.7.3"
  }
 },
 "nbformat": 4,
 "nbformat_minor": 2
}
