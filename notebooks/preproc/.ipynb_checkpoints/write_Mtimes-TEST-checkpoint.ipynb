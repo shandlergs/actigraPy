{
 "cells": [
  {
   "cell_type": "markdown",
   "metadata": {},
   "source": [
    "Takes in .AWD, sleep log if it exists, calendar, and spits out some pretty pictures"
   ]
  },
  {
   "cell_type": "code",
   "execution_count": 1,
   "metadata": {},
   "outputs": [
    {
     "name": "stderr",
     "output_type": "stream",
     "text": [
      "/data/MoodGroup/actigraphy/gavi/actigraPy/actigraPy/actigraPy.py:23: MatplotlibDeprecationWarning: \n",
      "The matplotlib.backends.tkagg module was deprecated in Matplotlib 3.0 and will be removed in 3.2.\n",
      "  import matplotlib.backends.tkagg as tkagg\n"
     ]
    }
   ],
   "source": [
    "import os,sys,inspect\n",
    "current_dir = os.path.dirname(os.path.abspath(inspect.getfile(inspect.currentframe())))\n",
    "parent_dir = os.path.dirname(current_dir)\n",
    "sys.path.insert(0, '/data/MoodGroup/actigraphy/gavi/actigraPy') \n",
    "\n",
    "import actigraPy.actigraPy as act\n",
    "import importlib\n",
    "import numpy as np\n",
    "import pandas as pd\n",
    "from datetime import datetime\n",
    "from datetime import timedelta"
   ]
  },
  {
   "cell_type": "markdown",
   "metadata": {},
   "source": [
    "If you want to run the test data, run this cell instead of the one below"
   ]
  },
  {
   "cell_type": "code",
   "execution_count": 2,
   "metadata": {},
   "outputs": [],
   "source": [
    "# data and log directories\n",
    "sub = 'TEST' #subject NUMBER as STRING\n",
    "sub_long = 'TEST'\n",
    "\n",
    "out_dir = '/data/MoodGroup/actigraphy/gavi/actigraPy/data/output' #output directory\n",
    "data_dir = '/data/MoodGroup/actigraphy/gavi/actigraPy/data'\n",
    "\n",
    "if not os.path.exists(out_dir):\n",
    "    os.mkdir(out_dir)\n"
   ]
  },
  {
   "cell_type": "markdown",
   "metadata": {},
   "source": [
    "## Subject and directory info"
   ]
  },
  {
   "cell_type": "code",
   "execution_count": 3,
   "metadata": {},
   "outputs": [
    {
     "name": "stdout",
     "output_type": "stream",
     "text": [
      "TEST has cal file at /data/MoodGroup/actigraphy/gavi/actigraPy/data/TEST_calendar_log.xls\n",
      "TEST has log file at /data/MoodGroup/actigraphy/gavi/actigraPy/data/TEST_sleeplog.xls\n"
     ]
    }
   ],
   "source": [
    "fn = {}\n",
    "#.AWD\n",
    "awd_fn = os.path.join(data_dir, '%s.AWD'%sub_long)\n",
    "#sleeplog\n",
    "fn['cal']= os.path.join(data_dir, '%s_calendar_log.xls'%sub_long)\n",
    "#calendar\n",
    "fn['log'] = os.path.join(data_dir, '%s_sleeplog.xls'%sub_long)\n",
    "logs = []\n",
    "\n",
    "if os.path.isfile(awd_fn):\n",
    "    for name in fn.keys():\n",
    "        if os.path.isfile(fn[name]):\n",
    "            print(\"%s has %s file at %s\"%(sub,name,fn[name]))\n",
    "            logs.append(fn[name])\n",
    "        else:\n",
    "            print(\"no \" + name)\n",
    "            fn[name] = ''\n",
    "else:\n",
    "    print(\"DO NOT CONTINUE!! THERE IS NO AWD FILE\")"
   ]
  },
  {
   "cell_type": "code",
   "execution_count": null,
   "metadata": {},
   "outputs": [],
   "source": []
  },
  {
   "cell_type": "markdown",
   "metadata": {},
   "source": [
    "### Make Mtimes file"
   ]
  },
  {
   "cell_type": "markdown",
   "metadata": {},
   "source": [
    "Figure out where to clip awd file"
   ]
  },
  {
   "cell_type": "code",
   "execution_count": 4,
   "metadata": {},
   "outputs": [],
   "source": [
    "awd_dat = act.read_AWD(awd_fn)\n"
   ]
  },
  {
   "cell_type": "code",
   "execution_count": 5,
   "metadata": {},
   "outputs": [
    {
     "name": "stdout",
     "output_type": "stream",
     "text": [
      "/data/MoodGroup/actigraphy/gavi/actigraPy/data/TEST_calendar_log.xls\n",
      "     OffDate   OffTime     OnDate    OnTime                Comment\n",
      "0        NaT       NaN 2016-02-08  10:00:00                  start\n",
      "1 2016-02-07  13:00:00 2016-02-07  14:30:00  Fake, for bug testing\n",
      "2 2016-02-08  13:00:00 2016-02-08  14:30:00                     3T\n",
      "3 2016-02-08  21:30:00 2016-02-09  07:00:00            Sleep study\n",
      "4 2016-02-09  14:00:00 2016-02-09  16:00:00                     7T\n",
      "5 2016-02-10  10:00:00 2016-02-10  12:00:00                    NaN\n",
      "6 2016-02-10  21:30:00 2016-02-11  07:00:00            Sleep study\n",
      "7 2016-02-11  09:00:00 2016-02-11  09:40:00               Infusion\n",
      "8 2016-02-11  15:00:00 2016-02-11  17:00:00                    MEG\n",
      "[(0, 74, '3T'), (494, 1064, 'Sleep study'), (1484, 1604, '7T'), (2684, 2804, ''), (3374, 3944, 'Sleep study'), (4064, 4104, 'Infusion'), (4424, 4544, 'MEG')]\n",
      "/data/MoodGroup/actigraphy/gavi/actigraPy/data/TEST_sleeplog.xls\n",
      "     OffDate   OffTime     OnDate    OnTime Comment\n",
      "0        NaT       NaN 2016-02-08  15:40:00   start\n",
      "1 2016-02-09  00:42:00 2016-02-09  01:20:00  shower\n",
      "2 2016-02-09  13:45:00 2016-02-09  16:35:00  7T MRI\n",
      "3 2016-02-09  23:25:00 2016-02-10  00:05:00  shower\n",
      "4 2016-02-10  19:15:00 2016-02-10  20:07:00  shower\n",
      "5 2016-02-11  15:00:00 2016-02-11  17:00:00     MEG\n",
      "[(686, 724, 'shower'), (1469, 1639, '7T MRI'), (2049, 2089, 'shower'), (3239, 3291, 'shower'), (4424, 4544, 'MEG')]\n"
     ]
    },
    {
     "data": {
      "text/plain": [
       "{'start': [0, 144], 'end': [4741]}"
      ]
     },
     "execution_count": 5,
     "metadata": {},
     "output_type": "execute_result"
    }
   ],
   "source": [
    "#read AWD file\n",
    "awd_dat = act.read_AWD(awd_fn)\n",
    "idx={'start':[0],'end':[len(awd_dat['dt_list'])-1]}\n",
    "#get the start and stops from each log if they exist\n",
    "for log in logs:\n",
    "    print(log)\n",
    "    log_dat, kw_dat, comments = act.read_log(log,awd_dat)\n",
    "    \n",
    "    if 'watch_on' in kw_dat.keys():\n",
    "        on_date = kw_dat['watch_on'].iloc[0]['OnDate']\n",
    "        on_time = kw_dat['watch_on'].iloc[0]['OnTime']\n",
    "        on = datetime(on_date.year,on_date.month,on_date.day,on_time.hour,on_time.minute)\n",
    "        #check if that time is in dt_list:\n",
    "        if awd_dat['dt_list'].count(on) > 0:\n",
    "            on_idx=awd_dat['dt_list'].index(on)\n",
    "            idx['start'].append(on_idx)\n",
    "\n",
    "    if 'watch_off' in kw_dat.keys():\n",
    "        off_date = kw_dat['watch_off'].iloc[0]['OffDate']\n",
    "        off_time = kw_dat['watch_off'].iloc[0]['OffTime']\n",
    "        off = datetime(off_date.year,off_date.month,off_date.day,off_time.hour,off_time.minute)\n",
    "        if awd_dat['dt_list'].count(off) > 0:\n",
    "            off_idx=awd_dat['dt_list'].index(off)\n",
    "            idx['end'].append(off_idx)\n",
    " \n",
    "idx"
   ]
  },
  {
   "cell_type": "code",
   "execution_count": null,
   "metadata": {},
   "outputs": [],
   "source": []
  },
  {
   "cell_type": "code",
   "execution_count": 6,
   "metadata": {},
   "outputs": [
    {
     "name": "stdout",
     "output_type": "stream",
     "text": [
      "start = 144, end = 4741\n"
     ]
    }
   ],
   "source": [
    "start = max(idx['start'])\n",
    "end = min(idx['end'])\n",
    "print('start = %d, end = %d'%(start,end))"
   ]
  },
  {
   "cell_type": "markdown",
   "metadata": {},
   "source": [
    "## <font color='red'>Make sure the starts and ends make sense before clipping the data</font>\n"
   ]
  },
  {
   "cell_type": "code",
   "execution_count": 33,
   "metadata": {},
   "outputs": [],
   "source": [
    "#modify these according to output from above!!\n",
    "lim = [awd_dat['DateTime'][start],awd_dat['DateTime'][end]]\n",
    "clip_dat = act.clip_dat(lim,awd_dat)"
   ]
  },
  {
   "cell_type": "markdown",
   "metadata": {},
   "source": [
    "Now just run these cells in order to extract comments and write Mtimes"
   ]
  },
  {
   "cell_type": "markdown",
   "metadata": {},
   "source": [
    "Testing/playing w code"
   ]
  },
  {
   "cell_type": "code",
   "execution_count": 29,
   "metadata": {},
   "outputs": [
    {
     "name": "stdout",
     "output_type": "stream",
     "text": [
      "     OffDate   OffTime     OnDate    OnTime                Comment\n",
      "0        NaT       NaN 2016-02-08  10:00:00                  start\n",
      "1 2016-02-07  13:00:00 2016-02-07  14:30:00  Fake, for bug testing\n",
      "2 2016-02-08  13:00:00 2016-02-08  14:30:00                     3T\n",
      "3 2016-02-08  21:30:00 2016-02-09  07:00:00            Sleep study\n",
      "4 2016-02-09  14:00:00 2016-02-09  16:00:00                     7T\n",
      "5 2016-02-10  10:00:00 2016-02-10  12:00:00                    NaN\n",
      "6 2016-02-10  21:30:00 2016-02-11  07:00:00            Sleep study\n",
      "7 2016-02-11  09:00:00 2016-02-11  09:40:00               Infusion\n",
      "8 2016-02-11  15:00:00 2016-02-11  17:00:00                    MEG\n"
     ]
    }
   ],
   "source": [
    "importlib.reload(act)\n",
    "log_dat,kw_dat = act.read_log(fn['cal'],awd_dat,oldvsn=False)\n"
   ]
  },
  {
   "cell_type": "code",
   "execution_count": 32,
   "metadata": {},
   "outputs": [
    {
     "data": {
      "text/plain": [
       "[(0, 74, '3T'),\n",
       " (494, 1064, 'Sleep study'),\n",
       " (1484, 1604, '7T'),\n",
       " (2684, 2804, ''),\n",
       " (3374, 3944, 'Sleep study'),\n",
       " (4064, 4104, 'Infusion'),\n",
       " (4424, 4544, 'MEG')]"
      ]
     },
     "execution_count": 32,
     "metadata": {},
     "output_type": "execute_result"
    }
   ],
   "source": [
    "log_dat['idx']"
   ]
  },
  {
   "cell_type": "markdown",
   "metadata": {},
   "source": [
    "Real notebook continues here"
   ]
  },
  {
   "cell_type": "code",
   "execution_count": 71,
   "metadata": {},
   "outputs": [],
   "source": [
    "importlib.reload(act)\n",
    "#Make master mk_idx\n",
    "mk_idx=act.get_markers(awd_dat)"
   ]
  },
  {
   "cell_type": "code",
   "execution_count": 72,
   "metadata": {},
   "outputs": [
    {
     "data": {
      "text/plain": [
       "[(0, 79, ''),\n",
       " (87, 135, ''),\n",
       " (153, 165, ''),\n",
       " (215, 227, ''),\n",
       " (319, 347, ''),\n",
       " (351, 389, ''),\n",
       " (529, 547, ''),\n",
       " (553, 569, ''),\n",
       " (691, 729, ''),\n",
       " (751, 1159, ''),\n",
       " (1197, 1211, ''),\n",
       " (1293, 1313, ''),\n",
       " (1319, 1339, ''),\n",
       " (1473, 1641, ''),\n",
       " (1879, 1905, ''),\n",
       " (2055, 2091, ''),\n",
       " (2127, 2155, ''),\n",
       " (2161, 2551, ''),\n",
       " (2557, 2593, ''),\n",
       " (2599, 2651, ''),\n",
       " (2723, 2789, ''),\n",
       " (2991, 3007, ''),\n",
       " (3029, 3043, ''),\n",
       " (3051, 3093, ''),\n",
       " (3241, 3293, ''),\n",
       " (3301, 3321, ''),\n",
       " (3381, 3393, ''),\n",
       " (3401, 3413, ''),\n",
       " (3471, 3493, ''),\n",
       " (3607, 3935, ''),\n",
       " (3941, 3955, ''),\n",
       " (4005, 4039, ''),\n",
       " (4047, 4063, ''),\n",
       " (4069, 4083, ''),\n",
       " (4095, 4177, ''),\n",
       " (4239, 4253, ''),\n",
       " (4283, 4301, ''),\n",
       " (4381, 4407, ''),\n",
       " (4425, 4509, ''),\n",
       " (4679, 4693, ''),\n",
       " (4715, 4727, '')]"
      ]
     },
     "execution_count": 72,
     "metadata": {},
     "output_type": "execute_result"
    }
   ],
   "source": [
    "mk_idx['z']"
   ]
  },
  {
   "cell_type": "code",
   "execution_count": 69,
   "metadata": {},
   "outputs": [
    {
     "data": {
      "text/plain": [
       "[(143, 689, ''), (1472, 1645, ''), (2094, 3237, '')]"
      ]
     },
     "execution_count": 69,
     "metadata": {},
     "output_type": "execute_result"
    }
   ],
   "source": [
    "\n"
   ]
  },
  {
   "cell_type": "code",
   "execution_count": 73,
   "metadata": {},
   "outputs": [
    {
     "name": "stdout",
     "output_type": "stream",
     "text": [
      "     OffDate   OffTime     OnDate    OnTime                Comment\n",
      "0        NaT       NaN 2016-02-08  10:00:00                  start\n",
      "1 2016-02-07  13:00:00 2016-02-07  14:30:00  Fake, for bug testing\n",
      "2 2016-02-08  13:00:00 2016-02-08  14:30:00                     3T\n",
      "3 2016-02-08  21:30:00 2016-02-09  07:00:00            Sleep study\n",
      "4 2016-02-09  14:00:00 2016-02-09  16:00:00                     7T\n",
      "5 2016-02-10  10:00:00 2016-02-10  12:00:00                    NaN\n",
      "6 2016-02-10  21:30:00 2016-02-11  07:00:00            Sleep study\n",
      "7 2016-02-11  09:00:00 2016-02-11  09:40:00               Infusion\n",
      "8 2016-02-11  15:00:00 2016-02-11  17:00:00                    MEG\n",
      "     OffDate   OffTime     OnDate    OnTime Comment\n",
      "0        NaT       NaN 2016-02-08  15:40:00   start\n",
      "1 2016-02-09  00:42:00 2016-02-09  01:20:00  shower\n",
      "2 2016-02-09  13:45:00 2016-02-09  16:35:00  7T MRI\n",
      "3 2016-02-09  23:25:00 2016-02-10  00:05:00  shower\n",
      "4 2016-02-10  19:15:00 2016-02-10  20:07:00  shower\n",
      "5 2016-02-11  15:00:00 2016-02-11  17:00:00     MEG\n"
     ]
    }
   ],
   "source": [
    "importlib.reload(act)\n",
    "#Read logs\n",
    "for name in fn.keys():\n",
    "    if os.path.isfile(fn[name]):\n",
    "        log_dat,kw_dat= act.read_log(fn[name],awd_dat,oldvsn=False)\n",
    "        mk_idx[name]=log_dat['idx']\n",
    "        \n"
   ]
  },
  {
   "cell_type": "code",
   "execution_count": 158,
   "metadata": {
    "scrolled": true
   },
   "outputs": [
    {
     "data": {
      "text/html": [
       "<div>\n",
       "<style scoped>\n",
       "    .dataframe tbody tr th:only-of-type {\n",
       "        vertical-align: middle;\n",
       "    }\n",
       "\n",
       "    .dataframe tbody tr th {\n",
       "        vertical-align: top;\n",
       "    }\n",
       "\n",
       "    .dataframe thead th {\n",
       "        text-align: right;\n",
       "    }\n",
       "</style>\n",
       "<table border=\"1\" class=\"dataframe\">\n",
       "  <thead>\n",
       "    <tr style=\"text-align: right;\">\n",
       "      <th></th>\n",
       "      <th>OnDate</th>\n",
       "      <th>OnTime</th>\n",
       "      <th>OffDate</th>\n",
       "      <th>OffTime</th>\n",
       "      <th>marker</th>\n",
       "      <th>Comment</th>\n",
       "    </tr>\n",
       "  </thead>\n",
       "  <tbody>\n",
       "    <tr>\n",
       "      <th>0</th>\n",
       "      <td>08-Feb-16</td>\n",
       "      <td>01:16 PM</td>\n",
       "      <td>08-Feb-16</td>\n",
       "      <td>02:30 PM</td>\n",
       "      <td>cal</td>\n",
       "      <td>3T</td>\n",
       "    </tr>\n",
       "    <tr>\n",
       "      <th>1</th>\n",
       "      <td>08-Feb-16</td>\n",
       "      <td>01:16 PM</td>\n",
       "      <td>08-Feb-16</td>\n",
       "      <td>02:35 PM</td>\n",
       "      <td>z</td>\n",
       "      <td></td>\n",
       "    </tr>\n",
       "    <tr>\n",
       "      <th>2</th>\n",
       "      <td>08-Feb-16</td>\n",
       "      <td>02:43 PM</td>\n",
       "      <td>08-Feb-16</td>\n",
       "      <td>03:31 PM</td>\n",
       "      <td>z</td>\n",
       "      <td></td>\n",
       "    </tr>\n",
       "    <tr>\n",
       "      <th>3</th>\n",
       "      <td>08-Feb-16</td>\n",
       "      <td>03:49 PM</td>\n",
       "      <td>08-Feb-16</td>\n",
       "      <td>04:01 PM</td>\n",
       "      <td>z</td>\n",
       "      <td></td>\n",
       "    </tr>\n",
       "    <tr>\n",
       "      <th>4</th>\n",
       "      <td>08-Feb-16</td>\n",
       "      <td>04:51 PM</td>\n",
       "      <td>08-Feb-16</td>\n",
       "      <td>05:03 PM</td>\n",
       "      <td>z</td>\n",
       "      <td></td>\n",
       "    </tr>\n",
       "    <tr>\n",
       "      <th>5</th>\n",
       "      <td>08-Feb-16</td>\n",
       "      <td>06:35 PM</td>\n",
       "      <td>08-Feb-16</td>\n",
       "      <td>07:03 PM</td>\n",
       "      <td>z</td>\n",
       "      <td></td>\n",
       "    </tr>\n",
       "    <tr>\n",
       "      <th>6</th>\n",
       "      <td>08-Feb-16</td>\n",
       "      <td>07:07 PM</td>\n",
       "      <td>08-Feb-16</td>\n",
       "      <td>07:45 PM</td>\n",
       "      <td>z</td>\n",
       "      <td></td>\n",
       "    </tr>\n",
       "    <tr>\n",
       "      <th>7</th>\n",
       "      <td>08-Feb-16</td>\n",
       "      <td>09:30 PM</td>\n",
       "      <td>09-Feb-16</td>\n",
       "      <td>07:00 AM</td>\n",
       "      <td>cal</td>\n",
       "      <td>Sleep study</td>\n",
       "    </tr>\n",
       "    <tr>\n",
       "      <th>8</th>\n",
       "      <td>08-Feb-16</td>\n",
       "      <td>10:05 PM</td>\n",
       "      <td>08-Feb-16</td>\n",
       "      <td>10:23 PM</td>\n",
       "      <td>z</td>\n",
       "      <td></td>\n",
       "    </tr>\n",
       "    <tr>\n",
       "      <th>9</th>\n",
       "      <td>08-Feb-16</td>\n",
       "      <td>10:29 PM</td>\n",
       "      <td>08-Feb-16</td>\n",
       "      <td>10:45 PM</td>\n",
       "      <td>z</td>\n",
       "      <td></td>\n",
       "    </tr>\n",
       "    <tr>\n",
       "      <th>10</th>\n",
       "      <td>09-Feb-16</td>\n",
       "      <td>12:42 AM</td>\n",
       "      <td>09-Feb-16</td>\n",
       "      <td>01:20 AM</td>\n",
       "      <td>log</td>\n",
       "      <td>shower</td>\n",
       "    </tr>\n",
       "    <tr>\n",
       "      <th>11</th>\n",
       "      <td>09-Feb-16</td>\n",
       "      <td>12:47 AM</td>\n",
       "      <td>09-Feb-16</td>\n",
       "      <td>01:25 AM</td>\n",
       "      <td>z</td>\n",
       "      <td></td>\n",
       "    </tr>\n",
       "    <tr>\n",
       "      <th>12</th>\n",
       "      <td>09-Feb-16</td>\n",
       "      <td>01:47 AM</td>\n",
       "      <td>09-Feb-16</td>\n",
       "      <td>08:35 AM</td>\n",
       "      <td>z</td>\n",
       "      <td></td>\n",
       "    </tr>\n",
       "    <tr>\n",
       "      <th>13</th>\n",
       "      <td>09-Feb-16</td>\n",
       "      <td>09:13 AM</td>\n",
       "      <td>09-Feb-16</td>\n",
       "      <td>09:27 AM</td>\n",
       "      <td>z</td>\n",
       "      <td></td>\n",
       "    </tr>\n",
       "    <tr>\n",
       "      <th>14</th>\n",
       "      <td>09-Feb-16</td>\n",
       "      <td>10:49 AM</td>\n",
       "      <td>09-Feb-16</td>\n",
       "      <td>11:09 AM</td>\n",
       "      <td>z</td>\n",
       "      <td></td>\n",
       "    </tr>\n",
       "    <tr>\n",
       "      <th>15</th>\n",
       "      <td>09-Feb-16</td>\n",
       "      <td>11:15 AM</td>\n",
       "      <td>09-Feb-16</td>\n",
       "      <td>11:35 AM</td>\n",
       "      <td>z</td>\n",
       "      <td></td>\n",
       "    </tr>\n",
       "    <tr>\n",
       "      <th>16</th>\n",
       "      <td>09-Feb-16</td>\n",
       "      <td>01:38 PM</td>\n",
       "      <td>09-Feb-16</td>\n",
       "      <td>01:46 PM</td>\n",
       "      <td>m</td>\n",
       "      <td></td>\n",
       "    </tr>\n",
       "    <tr>\n",
       "      <th>17</th>\n",
       "      <td>09-Feb-16</td>\n",
       "      <td>01:45 PM</td>\n",
       "      <td>09-Feb-16</td>\n",
       "      <td>04:35 PM</td>\n",
       "      <td>log</td>\n",
       "      <td>7T MRI</td>\n",
       "    </tr>\n",
       "    <tr>\n",
       "      <th>18</th>\n",
       "      <td>09-Feb-16</td>\n",
       "      <td>01:49 PM</td>\n",
       "      <td>09-Feb-16</td>\n",
       "      <td>04:37 PM</td>\n",
       "      <td>z</td>\n",
       "      <td></td>\n",
       "    </tr>\n",
       "    <tr>\n",
       "      <th>19</th>\n",
       "      <td>09-Feb-16</td>\n",
       "      <td>01:51 PM</td>\n",
       "      <td>09-Feb-16</td>\n",
       "      <td>04:39 PM</td>\n",
       "      <td>m</td>\n",
       "      <td></td>\n",
       "    </tr>\n",
       "    <tr>\n",
       "      <th>20</th>\n",
       "      <td>09-Feb-16</td>\n",
       "      <td>02:00 PM</td>\n",
       "      <td>09-Feb-16</td>\n",
       "      <td>04:00 PM</td>\n",
       "      <td>cal</td>\n",
       "      <td>7T</td>\n",
       "    </tr>\n",
       "    <tr>\n",
       "      <th>21</th>\n",
       "      <td>09-Feb-16</td>\n",
       "      <td>08:35 PM</td>\n",
       "      <td>09-Feb-16</td>\n",
       "      <td>09:01 PM</td>\n",
       "      <td>z</td>\n",
       "      <td></td>\n",
       "    </tr>\n",
       "    <tr>\n",
       "      <th>22</th>\n",
       "      <td>09-Feb-16</td>\n",
       "      <td>11:25 PM</td>\n",
       "      <td>10-Feb-16</td>\n",
       "      <td>12:05 AM</td>\n",
       "      <td>log</td>\n",
       "      <td>shower</td>\n",
       "    </tr>\n",
       "    <tr>\n",
       "      <th>23</th>\n",
       "      <td>09-Feb-16</td>\n",
       "      <td>11:31 PM</td>\n",
       "      <td>10-Feb-16</td>\n",
       "      <td>12:07 AM</td>\n",
       "      <td>z</td>\n",
       "      <td></td>\n",
       "    </tr>\n",
       "    <tr>\n",
       "      <th>24</th>\n",
       "      <td>09-Feb-16</td>\n",
       "      <td>11:32 PM</td>\n",
       "      <td>10-Feb-16</td>\n",
       "      <td>12:09 AM</td>\n",
       "      <td>m</td>\n",
       "      <td></td>\n",
       "    </tr>\n",
       "    <tr>\n",
       "      <th>25</th>\n",
       "      <td>10-Feb-16</td>\n",
       "      <td>12:43 AM</td>\n",
       "      <td>10-Feb-16</td>\n",
       "      <td>01:11 AM</td>\n",
       "      <td>z</td>\n",
       "      <td></td>\n",
       "    </tr>\n",
       "    <tr>\n",
       "      <th>26</th>\n",
       "      <td>10-Feb-16</td>\n",
       "      <td>01:17 AM</td>\n",
       "      <td>10-Feb-16</td>\n",
       "      <td>07:47 AM</td>\n",
       "      <td>z</td>\n",
       "      <td></td>\n",
       "    </tr>\n",
       "    <tr>\n",
       "      <th>27</th>\n",
       "      <td>10-Feb-16</td>\n",
       "      <td>07:53 AM</td>\n",
       "      <td>10-Feb-16</td>\n",
       "      <td>08:29 AM</td>\n",
       "      <td>z</td>\n",
       "      <td></td>\n",
       "    </tr>\n",
       "    <tr>\n",
       "      <th>28</th>\n",
       "      <td>10-Feb-16</td>\n",
       "      <td>08:35 AM</td>\n",
       "      <td>10-Feb-16</td>\n",
       "      <td>09:27 AM</td>\n",
       "      <td>z</td>\n",
       "      <td></td>\n",
       "    </tr>\n",
       "    <tr>\n",
       "      <th>29</th>\n",
       "      <td>10-Feb-16</td>\n",
       "      <td>10:00 AM</td>\n",
       "      <td>10-Feb-16</td>\n",
       "      <td>12:00 PM</td>\n",
       "      <td>cal</td>\n",
       "      <td></td>\n",
       "    </tr>\n",
       "    <tr>\n",
       "      <th>30</th>\n",
       "      <td>10-Feb-16</td>\n",
       "      <td>10:39 AM</td>\n",
       "      <td>10-Feb-16</td>\n",
       "      <td>11:45 AM</td>\n",
       "      <td>z</td>\n",
       "      <td></td>\n",
       "    </tr>\n",
       "    <tr>\n",
       "      <th>31</th>\n",
       "      <td>10-Feb-16</td>\n",
       "      <td>03:07 PM</td>\n",
       "      <td>10-Feb-16</td>\n",
       "      <td>03:23 PM</td>\n",
       "      <td>z</td>\n",
       "      <td></td>\n",
       "    </tr>\n",
       "    <tr>\n",
       "      <th>32</th>\n",
       "      <td>10-Feb-16</td>\n",
       "      <td>03:45 PM</td>\n",
       "      <td>10-Feb-16</td>\n",
       "      <td>03:59 PM</td>\n",
       "      <td>z</td>\n",
       "      <td></td>\n",
       "    </tr>\n",
       "    <tr>\n",
       "      <th>33</th>\n",
       "      <td>10-Feb-16</td>\n",
       "      <td>04:07 PM</td>\n",
       "      <td>10-Feb-16</td>\n",
       "      <td>04:49 PM</td>\n",
       "      <td>z</td>\n",
       "      <td></td>\n",
       "    </tr>\n",
       "    <tr>\n",
       "      <th>34</th>\n",
       "      <td>10-Feb-16</td>\n",
       "      <td>07:15 PM</td>\n",
       "      <td>10-Feb-16</td>\n",
       "      <td>08:07 PM</td>\n",
       "      <td>log</td>\n",
       "      <td>shower</td>\n",
       "    </tr>\n",
       "    <tr>\n",
       "      <th>35</th>\n",
       "      <td>10-Feb-16</td>\n",
       "      <td>07:17 PM</td>\n",
       "      <td>10-Feb-16</td>\n",
       "      <td>08:09 PM</td>\n",
       "      <td>z</td>\n",
       "      <td></td>\n",
       "    </tr>\n",
       "    <tr>\n",
       "      <th>36</th>\n",
       "      <td>10-Feb-16</td>\n",
       "      <td>07:19 PM</td>\n",
       "      <td>10-Feb-16</td>\n",
       "      <td>08:10 PM</td>\n",
       "      <td>m</td>\n",
       "      <td></td>\n",
       "    </tr>\n",
       "    <tr>\n",
       "      <th>37</th>\n",
       "      <td>10-Feb-16</td>\n",
       "      <td>08:17 PM</td>\n",
       "      <td>10-Feb-16</td>\n",
       "      <td>08:37 PM</td>\n",
       "      <td>z</td>\n",
       "      <td></td>\n",
       "    </tr>\n",
       "    <tr>\n",
       "      <th>38</th>\n",
       "      <td>10-Feb-16</td>\n",
       "      <td>09:30 PM</td>\n",
       "      <td>11-Feb-16</td>\n",
       "      <td>07:00 AM</td>\n",
       "      <td>cal</td>\n",
       "      <td>Sleep study</td>\n",
       "    </tr>\n",
       "    <tr>\n",
       "      <th>39</th>\n",
       "      <td>10-Feb-16</td>\n",
       "      <td>09:37 PM</td>\n",
       "      <td>10-Feb-16</td>\n",
       "      <td>09:49 PM</td>\n",
       "      <td>z</td>\n",
       "      <td></td>\n",
       "    </tr>\n",
       "    <tr>\n",
       "      <th>40</th>\n",
       "      <td>10-Feb-16</td>\n",
       "      <td>09:57 PM</td>\n",
       "      <td>10-Feb-16</td>\n",
       "      <td>10:09 PM</td>\n",
       "      <td>z</td>\n",
       "      <td></td>\n",
       "    </tr>\n",
       "    <tr>\n",
       "      <th>41</th>\n",
       "      <td>10-Feb-16</td>\n",
       "      <td>11:07 PM</td>\n",
       "      <td>10-Feb-16</td>\n",
       "      <td>11:29 PM</td>\n",
       "      <td>z</td>\n",
       "      <td></td>\n",
       "    </tr>\n",
       "    <tr>\n",
       "      <th>42</th>\n",
       "      <td>11-Feb-16</td>\n",
       "      <td>01:23 AM</td>\n",
       "      <td>11-Feb-16</td>\n",
       "      <td>06:51 AM</td>\n",
       "      <td>z</td>\n",
       "      <td></td>\n",
       "    </tr>\n",
       "    <tr>\n",
       "      <th>43</th>\n",
       "      <td>11-Feb-16</td>\n",
       "      <td>06:57 AM</td>\n",
       "      <td>11-Feb-16</td>\n",
       "      <td>07:11 AM</td>\n",
       "      <td>z</td>\n",
       "      <td></td>\n",
       "    </tr>\n",
       "    <tr>\n",
       "      <th>44</th>\n",
       "      <td>11-Feb-16</td>\n",
       "      <td>08:01 AM</td>\n",
       "      <td>11-Feb-16</td>\n",
       "      <td>08:35 AM</td>\n",
       "      <td>z</td>\n",
       "      <td></td>\n",
       "    </tr>\n",
       "    <tr>\n",
       "      <th>45</th>\n",
       "      <td>11-Feb-16</td>\n",
       "      <td>08:43 AM</td>\n",
       "      <td>11-Feb-16</td>\n",
       "      <td>08:59 AM</td>\n",
       "      <td>z</td>\n",
       "      <td></td>\n",
       "    </tr>\n",
       "    <tr>\n",
       "      <th>46</th>\n",
       "      <td>11-Feb-16</td>\n",
       "      <td>09:00 AM</td>\n",
       "      <td>11-Feb-16</td>\n",
       "      <td>09:40 AM</td>\n",
       "      <td>cal</td>\n",
       "      <td>Infusion</td>\n",
       "    </tr>\n",
       "    <tr>\n",
       "      <th>47</th>\n",
       "      <td>11-Feb-16</td>\n",
       "      <td>09:05 AM</td>\n",
       "      <td>11-Feb-16</td>\n",
       "      <td>09:19 AM</td>\n",
       "      <td>z</td>\n",
       "      <td></td>\n",
       "    </tr>\n",
       "    <tr>\n",
       "      <th>48</th>\n",
       "      <td>11-Feb-16</td>\n",
       "      <td>09:31 AM</td>\n",
       "      <td>11-Feb-16</td>\n",
       "      <td>10:53 AM</td>\n",
       "      <td>z</td>\n",
       "      <td></td>\n",
       "    </tr>\n",
       "    <tr>\n",
       "      <th>49</th>\n",
       "      <td>11-Feb-16</td>\n",
       "      <td>11:55 AM</td>\n",
       "      <td>11-Feb-16</td>\n",
       "      <td>12:09 PM</td>\n",
       "      <td>z</td>\n",
       "      <td></td>\n",
       "    </tr>\n",
       "    <tr>\n",
       "      <th>50</th>\n",
       "      <td>11-Feb-16</td>\n",
       "      <td>12:39 PM</td>\n",
       "      <td>11-Feb-16</td>\n",
       "      <td>12:57 PM</td>\n",
       "      <td>z</td>\n",
       "      <td></td>\n",
       "    </tr>\n",
       "    <tr>\n",
       "      <th>51</th>\n",
       "      <td>11-Feb-16</td>\n",
       "      <td>02:17 PM</td>\n",
       "      <td>11-Feb-16</td>\n",
       "      <td>02:43 PM</td>\n",
       "      <td>z</td>\n",
       "      <td></td>\n",
       "    </tr>\n",
       "    <tr>\n",
       "      <th>52</th>\n",
       "      <td>11-Feb-16</td>\n",
       "      <td>03:00 PM</td>\n",
       "      <td>11-Feb-16</td>\n",
       "      <td>05:00 PM</td>\n",
       "      <td>cal</td>\n",
       "      <td>MEG</td>\n",
       "    </tr>\n",
       "    <tr>\n",
       "      <th>53</th>\n",
       "      <td>11-Feb-16</td>\n",
       "      <td>03:00 PM</td>\n",
       "      <td>11-Feb-16</td>\n",
       "      <td>05:00 PM</td>\n",
       "      <td>log</td>\n",
       "      <td>MEG</td>\n",
       "    </tr>\n",
       "    <tr>\n",
       "      <th>54</th>\n",
       "      <td>11-Feb-16</td>\n",
       "      <td>03:01 PM</td>\n",
       "      <td>11-Feb-16</td>\n",
       "      <td>04:25 PM</td>\n",
       "      <td>z</td>\n",
       "      <td></td>\n",
       "    </tr>\n",
       "    <tr>\n",
       "      <th>55</th>\n",
       "      <td>11-Feb-16</td>\n",
       "      <td>07:15 PM</td>\n",
       "      <td>11-Feb-16</td>\n",
       "      <td>07:29 PM</td>\n",
       "      <td>z</td>\n",
       "      <td></td>\n",
       "    </tr>\n",
       "    <tr>\n",
       "      <th>56</th>\n",
       "      <td>11-Feb-16</td>\n",
       "      <td>07:51 PM</td>\n",
       "      <td>11-Feb-16</td>\n",
       "      <td>08:03 PM</td>\n",
       "      <td>z</td>\n",
       "      <td></td>\n",
       "    </tr>\n",
       "  </tbody>\n",
       "</table>\n",
       "</div>"
      ],
      "text/plain": [
       "       OnDate    OnTime    OffDate   OffTime marker      Comment\n",
       "0   08-Feb-16  01:16 PM  08-Feb-16  02:30 PM    cal           3T\n",
       "1   08-Feb-16  01:16 PM  08-Feb-16  02:35 PM      z             \n",
       "2   08-Feb-16  02:43 PM  08-Feb-16  03:31 PM      z             \n",
       "3   08-Feb-16  03:49 PM  08-Feb-16  04:01 PM      z             \n",
       "4   08-Feb-16  04:51 PM  08-Feb-16  05:03 PM      z             \n",
       "5   08-Feb-16  06:35 PM  08-Feb-16  07:03 PM      z             \n",
       "6   08-Feb-16  07:07 PM  08-Feb-16  07:45 PM      z             \n",
       "7   08-Feb-16  09:30 PM  09-Feb-16  07:00 AM    cal  Sleep study\n",
       "8   08-Feb-16  10:05 PM  08-Feb-16  10:23 PM      z             \n",
       "9   08-Feb-16  10:29 PM  08-Feb-16  10:45 PM      z             \n",
       "10  09-Feb-16  12:42 AM  09-Feb-16  01:20 AM    log       shower\n",
       "11  09-Feb-16  12:47 AM  09-Feb-16  01:25 AM      z             \n",
       "12  09-Feb-16  01:47 AM  09-Feb-16  08:35 AM      z             \n",
       "13  09-Feb-16  09:13 AM  09-Feb-16  09:27 AM      z             \n",
       "14  09-Feb-16  10:49 AM  09-Feb-16  11:09 AM      z             \n",
       "15  09-Feb-16  11:15 AM  09-Feb-16  11:35 AM      z             \n",
       "16  09-Feb-16  01:38 PM  09-Feb-16  01:46 PM      m             \n",
       "17  09-Feb-16  01:45 PM  09-Feb-16  04:35 PM    log       7T MRI\n",
       "18  09-Feb-16  01:49 PM  09-Feb-16  04:37 PM      z             \n",
       "19  09-Feb-16  01:51 PM  09-Feb-16  04:39 PM      m             \n",
       "20  09-Feb-16  02:00 PM  09-Feb-16  04:00 PM    cal           7T\n",
       "21  09-Feb-16  08:35 PM  09-Feb-16  09:01 PM      z             \n",
       "22  09-Feb-16  11:25 PM  10-Feb-16  12:05 AM    log       shower\n",
       "23  09-Feb-16  11:31 PM  10-Feb-16  12:07 AM      z             \n",
       "24  09-Feb-16  11:32 PM  10-Feb-16  12:09 AM      m             \n",
       "25  10-Feb-16  12:43 AM  10-Feb-16  01:11 AM      z             \n",
       "26  10-Feb-16  01:17 AM  10-Feb-16  07:47 AM      z             \n",
       "27  10-Feb-16  07:53 AM  10-Feb-16  08:29 AM      z             \n",
       "28  10-Feb-16  08:35 AM  10-Feb-16  09:27 AM      z             \n",
       "29  10-Feb-16  10:00 AM  10-Feb-16  12:00 PM    cal             \n",
       "30  10-Feb-16  10:39 AM  10-Feb-16  11:45 AM      z             \n",
       "31  10-Feb-16  03:07 PM  10-Feb-16  03:23 PM      z             \n",
       "32  10-Feb-16  03:45 PM  10-Feb-16  03:59 PM      z             \n",
       "33  10-Feb-16  04:07 PM  10-Feb-16  04:49 PM      z             \n",
       "34  10-Feb-16  07:15 PM  10-Feb-16  08:07 PM    log       shower\n",
       "35  10-Feb-16  07:17 PM  10-Feb-16  08:09 PM      z             \n",
       "36  10-Feb-16  07:19 PM  10-Feb-16  08:10 PM      m             \n",
       "37  10-Feb-16  08:17 PM  10-Feb-16  08:37 PM      z             \n",
       "38  10-Feb-16  09:30 PM  11-Feb-16  07:00 AM    cal  Sleep study\n",
       "39  10-Feb-16  09:37 PM  10-Feb-16  09:49 PM      z             \n",
       "40  10-Feb-16  09:57 PM  10-Feb-16  10:09 PM      z             \n",
       "41  10-Feb-16  11:07 PM  10-Feb-16  11:29 PM      z             \n",
       "42  11-Feb-16  01:23 AM  11-Feb-16  06:51 AM      z             \n",
       "43  11-Feb-16  06:57 AM  11-Feb-16  07:11 AM      z             \n",
       "44  11-Feb-16  08:01 AM  11-Feb-16  08:35 AM      z             \n",
       "45  11-Feb-16  08:43 AM  11-Feb-16  08:59 AM      z             \n",
       "46  11-Feb-16  09:00 AM  11-Feb-16  09:40 AM    cal     Infusion\n",
       "47  11-Feb-16  09:05 AM  11-Feb-16  09:19 AM      z             \n",
       "48  11-Feb-16  09:31 AM  11-Feb-16  10:53 AM      z             \n",
       "49  11-Feb-16  11:55 AM  11-Feb-16  12:09 PM      z             \n",
       "50  11-Feb-16  12:39 PM  11-Feb-16  12:57 PM      z             \n",
       "51  11-Feb-16  02:17 PM  11-Feb-16  02:43 PM      z             \n",
       "52  11-Feb-16  03:00 PM  11-Feb-16  05:00 PM    cal          MEG\n",
       "53  11-Feb-16  03:00 PM  11-Feb-16  05:00 PM    log          MEG\n",
       "54  11-Feb-16  03:01 PM  11-Feb-16  04:25 PM      z             \n",
       "55  11-Feb-16  07:15 PM  11-Feb-16  07:29 PM      z             \n",
       "56  11-Feb-16  07:51 PM  11-Feb-16  08:03 PM      z             "
      ]
     },
     "execution_count": 158,
     "metadata": {},
     "output_type": "execute_result"
    }
   ],
   "source": [
    "importlib.reload(act)\n",
    "act.write_Mtimes(awd_dat,mk_idx,os.path.join(out_dir,sub_long))"
   ]
  },
  {
   "cell_type": "markdown",
   "metadata": {},
   "source": [
    "## Make graphs"
   ]
  },
  {
   "cell_type": "code",
   "execution_count": 101,
   "metadata": {},
   "outputs": [],
   "source": [
    "plots = {}\n",
    "for name in fn.keys():\n",
    "    if name in mk_idx.keys():\n",
    "        plots[name]=mk_idx[name]"
   ]
  },
  {
   "cell_type": "code",
   "execution_count": 157,
   "metadata": {
    "scrolled": false
   },
   "outputs": [
    {
     "name": "stdout",
     "output_type": "stream",
     "text": [
      "4\n",
      "08-Feb-16\n",
      "0 643\n",
      "plotting: 796,870 from cal\n",
      "plotting: 1290,1439 from cal\n",
      "09-Feb-16\n",
      "644 2083\n",
      "plotting: 0,420 from cal\n",
      "plotting: 840,960 from cal\n",
      "plotting: 42,80 from log\n",
      "plotting: 825,995 from log\n",
      "plotting: 1405,1439 from log\n",
      "10-Feb-16\n",
      "2084 3523\n",
      "plotting: 600,720 from cal\n",
      "plotting: 1290,1439 from cal\n",
      "plotting: 0,5 from log\n",
      "plotting: 1155,1207 from log\n",
      "11-Feb-16\n",
      "3524 4740\n",
      "plotting: 0,420 from cal\n",
      "plotting: 540,580 from cal\n",
      "plotting: 900,1020 from cal\n",
      "plotting: 900,1020 from log\n",
      "Saving... /data/MoodGroup/actigraphy/gavi/actigraPy/data/output/TEST_M+logs.png\n",
      "Done\n"
     ]
    },
    {
     "data": {
      "image/png": "[encoded data removed]",
      "text/plain": [
       "<Figure size 432x576 with 4 Axes>"
      ]
     },
     "metadata": {},
     "output_type": "display_data"
    }
   ],
   "source": [
    "importlib.reload(act)\n",
    "\n",
    "act.plot_awd(clip_dat,plots,max_act=500,show=False,fn_pref=os.path.join(out_dir,sub_long+'_M+logs'),plot_type='single',debug=True)\n"
   ]
  },
  {
   "cell_type": "code",
   "execution_count": 156,
   "metadata": {},
   "outputs": [
    {
     "data": {
      "text/plain": [
       "643"
      ]
     },
     "execution_count": 156,
     "metadata": {},
     "output_type": "execute_result"
    }
   ],
   "source": [
    "len(np.arange(796,1439))"
   ]
  },
  {
   "cell_type": "code",
   "execution_count": null,
   "metadata": {},
   "outputs": [],
   "source": [
    "importlib.reload(act)\n",
    "\n",
    "act.plot_awd(clip_dat,plots,max_act=250,show=False,comments=gc,fn_pref=os.path.join(out_dir,sub_long+'_M+logs_zoom'),plot_type='single',debug=True)\n"
   ]
  },
  {
   "cell_type": "code",
   "execution_count": 107,
   "metadata": {},
   "outputs": [
    {
     "name": "stdout",
     "output_type": "stream",
     "text": [
      "4\n"
     ]
    }
   ],
   "source": [
    "idat = awd_dat['activity']\n",
    "\n",
    "   # want to plot activity data by day\n",
    "   # get number of days, then split data by days, the bar plota\n",
    "\n",
    "   #idat = np.array([ int(ii) for ii in dat if ii is not('M') ] ) \n",
    "day_list = [ ii.split()[0] for ii in awd_dat['DateTime'] ]\n",
    "days = list(np.unique(day_list))\n",
    "days.sort(key=lambda x: datetime.strptime(x, '%d-%b-%y'))\n",
    "   #print(days)\n",
    "n_days = len(days)\n",
    "   #n_days =  14\n",
    "   #days = days[:n_days]\n",
    " \n",
    "print(n_days)\n",
    "     \n",
    "wh = round(n_days/7)*8"
   ]
  },
  {
   "cell_type": "code",
   "execution_count": 109,
   "metadata": {},
   "outputs": [],
   "source": [
    "day = days[1]\n",
    "dd_idx = [idx for idx,ddd  in enumerate(day_list) if ddd == day]\n",
    "min_idx = np.min(dd_idx)\n",
    "max_idx = np.max(dd_idx)"
   ]
  },
  {
   "cell_type": "code",
   "execution_count": 111,
   "metadata": {},
   "outputs": [
    {
     "data": {
      "text/plain": [
       "[(0, 74, '3T'),\n",
       " (494, 1064, 'Sleep study'),\n",
       " (1484, 1604, '7T'),\n",
       " (2684, 2804, ''),\n",
       " (3374, 3944, 'Sleep study'),\n",
       " (4064, 4104, 'Infusion'),\n",
       " (4424, 4544, 'MEG')]"
      ]
     },
     "execution_count": 111,
     "metadata": {},
     "output_type": "execute_result"
    }
   ],
   "source": [
    "mk_idx['cal']"
   ]
  },
  {
   "cell_type": "code",
   "execution_count": 112,
   "metadata": {},
   "outputs": [
    {
     "data": {
      "text/plain": [
       "644"
      ]
     },
     "execution_count": 112,
     "metadata": {},
     "output_type": "execute_result"
    }
   ],
   "source": [
    "min_idx"
   ]
  },
  {
   "cell_type": "code",
   "execution_count": 139,
   "metadata": {},
   "outputs": [],
   "source": [
    "mk_dd_idx= np.where([(x[1]>min_idx)&(x[0]<max_idx) for x in mk_idx['cal']])[0].tolist()"
   ]
  },
  {
   "cell_type": "code",
   "execution_count": 141,
   "metadata": {},
   "outputs": [],
   "source": [
    "mk_dd = []\n",
    "for idx in mk_dd_idx:\n",
    "    tup = mk_idx['cal'][idx]\n",
    "    [st,en]=[tup[0],tup[1]]\n",
    "    if tup[0]<min_idx:\n",
    "        st=min_idx\n",
    "    if tup[1]>max_idx:\n",
    "        en=max_idx\n",
    "    tmp=(st,en,tup[2])\n",
    "    mk_dd.append(tmp)"
   ]
  },
  {
   "cell_type": "code",
   "execution_count": 142,
   "metadata": {},
   "outputs": [
    {
     "data": {
      "text/plain": [
       "[(644, 1064, 'Sleep study'), (1484, 1604, '7T')]"
      ]
     },
     "execution_count": 142,
     "metadata": {},
     "output_type": "execute_result"
    }
   ],
   "source": [
    "mk_dd"
   ]
  },
  {
   "cell_type": "code",
   "execution_count": 130,
   "metadata": {},
   "outputs": [
    {
     "data": {
      "text/plain": [
       "644"
      ]
     },
     "execution_count": 130,
     "metadata": {},
     "output_type": "execute_result"
    }
   ],
   "source": [
    "min_idx"
   ]
  },
  {
   "cell_type": "code",
   "execution_count": null,
   "metadata": {},
   "outputs": [],
   "source": []
  }
 ],
 "metadata": {
  "kernelspec": {
   "display_name": "Python 3",
   "language": "python",
   "name": "python3"
  },
  "language_info": {
   "codemirror_mode": {
    "name": "ipython",
    "version": 3
   },
   "file_extension": ".py",
   "mimetype": "text/x-python",
   "name": "python",
   "nbconvert_exporter": "python",
   "pygments_lexer": "ipython3",
   "version": "3.6.8"
  }
 },
 "nbformat": 4,
 "nbformat_minor": 2
}
