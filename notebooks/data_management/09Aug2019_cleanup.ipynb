{
 "cells": [
  {
   "cell_type": "code",
   "execution_count": 1,
   "metadata": {},
   "outputs": [
    {
     "name": "stderr",
     "output_type": "stream",
     "text": [
      "/data/MoodGroup/actigraphy/gavi/actigraPy/actigraPy/actigraPy.py:23: MatplotlibDeprecationWarning: \n",
      "The matplotlib.backends.tkagg module was deprecated in Matplotlib 3.0 and will be removed in 3.2.\n",
      "  import matplotlib.backends.tkagg as tkagg\n"
     ]
    }
   ],
   "source": [
    "import pandas as pd\n",
    "import os\n",
    "import shutil\n",
    "from glob import glob\n",
    "import numpy as np\n",
    "import math\n",
    "import os,sys,inspect\n",
    "from datetime import datetime\n",
    "current_dir = os.path.dirname(os.path.abspath(inspect.getfile(inspect.currentframe())))\n",
    "parent_dir = os.path.dirname(current_dir)\n",
    "sys.path.insert(0, '/data/MoodGroup/actigraphy/gavi/actigraPy') \n",
    "\n",
    "import actigraPy.actigraPy as act\n",
    "import importlib"
   ]
  },
  {
   "cell_type": "code",
   "execution_count": 2,
   "metadata": {},
   "outputs": [],
   "source": [
    "main_dir = '/data/MoodGroup/actigraphy/KMOA'\n",
    "dat = pd.read_csv(os.path.join(main_dir,\"KMOA_summary_clean.csv\"))\n"
   ]
  },
  {
   "cell_type": "code",
   "execution_count": 7,
   "metadata": {},
   "outputs": [
    {
     "data": {
      "text/plain": [
       "Index(['sub_long', 'sub_no', 'act_id', 'awd', 'calendar', 'sleeplogs',\n",
       "       'old_processing', 'gender', 'age', 'infusion', 'drug', 'withdraw'],\n",
       "      dtype='object')"
      ]
     },
     "execution_count": 7,
     "metadata": {},
     "output_type": "execute_result"
    }
   ],
   "source": [
    "dat.keys()"
   ]
  },
  {
   "cell_type": "code",
   "execution_count": 13,
   "metadata": {},
   "outputs": [
    {
     "name": "stdout",
     "output_type": "stream",
     "text": [
      "sub-MOA133 has >1 AWD\n"
     ]
    }
   ],
   "source": [
    "for row in dat.iterrows():\n",
    "    sub_dir = os.path.join(main_dir,'raw',row[1]['sub_long'])\n",
    "    if row[1]['awd'] == 1:\n",
    "        files = glob(os.path.join(sub_dir,'*AWD'))\n",
    "        if len(files) == 1:\n",
    "            if (files[0][-6:-4])==\"_0\":\n",
    "                os.rename(files[0],(files[0][:-6]+files[0][-4:]))\n",
    "        else:\n",
    "            print(row[1]['sub_long'] + ' has >1 AWD')"
   ]
  },
  {
   "cell_type": "code",
   "execution_count": 16,
   "metadata": {},
   "outputs": [
    {
     "name": "stdout",
     "output_type": "stream",
     "text": [
      "/data/MoodGroup/actigraphy/KMOA/raw/sub-MOA102/sub-MOA102_0.AWD\n",
      "Delete? 1 = Y, 0, N 0\n",
      "/data/MoodGroup/actigraphy/KMOA/raw/sub-MOA113/sub-MOA113_1.AWD\n",
      "Delete? 1 = Y, 0, N 1\n",
      "/data/MoodGroup/actigraphy/KMOA/raw/sub-MOA113/sub-MOA113_0.AWD\n",
      "Delete? 1 = Y, 0, N 1\n",
      "/data/MoodGroup/actigraphy/KMOA/raw/sub-MOA116/sub-MOA116_1.AWD\n",
      "Delete? 1 = Y, 0, N 1\n",
      "/data/MoodGroup/actigraphy/KMOA/raw/sub-MOA116/sub-MOA116_0.AWD\n",
      "Delete? 1 = Y, 0, N 1\n",
      "/data/MoodGroup/actigraphy/KMOA/raw/sub-MOA126/sub-MOA126_0.AWD\n",
      "Delete? 1 = Y, 0, N 1\n",
      "/data/MoodGroup/actigraphy/KMOA/raw/sub-MOA131/sub-MOA131_1.AWD\n",
      "Delete? 1 = Y, 0, N 0\n",
      "/data/MoodGroup/actigraphy/KMOA/raw/sub-MOA131/sub-MOA131_2.AWD\n",
      "Delete? 1 = Y, 0, N 0\n",
      "/data/MoodGroup/actigraphy/KMOA/raw/sub-MOA131/sub-MOA131_0.AWD\n",
      "Delete? 1 = Y, 0, N 0\n",
      "/data/MoodGroup/actigraphy/KMOA/raw/sub-MOA201/sub-MOA201_0.AWD\n",
      "Delete? 1 = Y, 0, N 1\n",
      "/data/MoodGroup/actigraphy/KMOA/raw/sub-MOA305/sub-MOA305_0.AWD\n",
      "Delete? 1 = Y, 0, N 1\n"
     ]
    }
   ],
   "source": [
    "for row in dat.iterrows():\n",
    "    sub_dir = os.path.join(main_dir,'raw',row[1]['sub_long'])\n",
    "    if row[1]['awd'] == 0:\n",
    "        files = glob(os.path.join(sub_dir,'*AWD'))\n",
    "        for file in files:\n",
    "            print(file)\n",
    "            x = input(\"Delete? 1 = Y, 0, N \")\n",
    "            if x == 1:\n",
    "                os.remove(file)\n",
    "                print(\"\\nDeleted\\n\")"
   ]
  },
  {
   "cell_type": "code",
   "execution_count": 15,
   "metadata": {},
   "outputs": [
    {
     "name": "stdout",
     "output_type": "stream",
     "text": [
      "Do you want to delete this? 1 for yes 0 or no1\n"
     ]
    }
   ],
   "source": [
    "x = input(\"Do you want to delete this? 1 for yes 0 or no\")\n",
    "if x == 1:\n",
    "    print(\"deteled\")"
   ]
  },
  {
   "cell_type": "code",
   "execution_count": null,
   "metadata": {},
   "outputs": [],
   "source": []
  }
 ],
 "metadata": {
  "kernelspec": {
   "display_name": "Python 3",
   "language": "python",
   "name": "python3"
  },
  "language_info": {
   "codemirror_mode": {
    "name": "ipython",
    "version": 3
   },
   "file_extension": ".py",
   "mimetype": "text/x-python",
   "name": "python",
   "nbconvert_exporter": "python",
   "pygments_lexer": "ipython3",
   "version": "3.6.8"
  }
 },
 "nbformat": 4,
 "nbformat_minor": 2
}
