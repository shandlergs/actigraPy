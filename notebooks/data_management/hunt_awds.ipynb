{
 "cells": [
  {
   "cell_type": "code",
   "execution_count": 4,
   "metadata": {},
   "outputs": [],
   "source": [
    "import pandas as pd\n",
    "import os\n",
    "import shutil\n",
    "from glob import glob\n",
    "import numpy as np\n",
    "import math\n",
    "import os,sys,inspect\n",
    "from datetime import datetime\n",
    "current_dir = os.path.dirname(os.path.abspath(inspect.getfile(inspect.currentframe())))\n",
    "parent_dir = os.path.dirname(current_dir)\n",
    "sys.path.insert(0, '/data/MoodGroup/actigraphy/gavi/actigraPy') \n",
    "\n",
    "import actigraPy.actigraPy as act\n",
    "import importlib\n",
    "import csv"
   ]
  },
  {
   "cell_type": "code",
   "execution_count": 5,
   "metadata": {},
   "outputs": [],
   "source": [
    "awd_list = glob('/data/MoodGroup/actigraphy/KMOA/awd_all/*.AWD')\n",
    "dat = pd.read_csv('/data/MoodGroup/actigraphy/KMOA/KMOA_summary.csv')\n",
    "out = '/data/MoodGroup/actigraphy/KMOA/awd_all/sum.csv'"
   ]
  },
  {
   "cell_type": "code",
   "execution_count": 10,
   "metadata": {},
   "outputs": [],
   "source": [
    "for awd in awd_list:\n",
    "    try:\n",
    "        awd_dat = act.read_AWD(awd)\n",
    "        matches = []\n",
    "        for subj in dat.iterrows():\n",
    "            if not pd.isnull(subj[1]['infusion']):\n",
    "                info = subj[1]['infusion'].split('/')\n",
    "                dt= datetime(year = int(info[2]), month = int(info[0]), day = int(info[1]), hour=9)\n",
    "                if dt in awd_dat['dt_list']:\n",
    "                    matches.append(subj[1]['sub_no'])\n",
    "\n",
    "        fn = (os.path.split(awd)[-1])\n",
    "        start = awd_dat['dt_list'][0].strftime('%m/%d/%Y, %H:%M')\n",
    "        end = awd_dat['dt_list'][-1].strftime('%m/%d/%Y, %H:%M')\n",
    "        gender = awd_dat['hdr']['gender']\n",
    "        age = awd_dat['hdr']['age']\n",
    "        row = [fn,matches,start,end,gender,age]\n",
    "\n",
    "    except:\n",
    "        row = ''\n",
    "    \n",
    "    with open(out,'a') as file:\n",
    "        writer = csv.writer(file)\n",
    "        writer.writerow(row)\n",
    "    file.close()\n",
    "\n"
   ]
  },
  {
   "cell_type": "code",
   "execution_count": null,
   "metadata": {},
   "outputs": [],
   "source": []
  }
 ],
 "metadata": {
  "kernelspec": {
   "display_name": "Python 3",
   "language": "python",
   "name": "python3"
  },
  "language_info": {
   "codemirror_mode": {
    "name": "ipython",
    "version": 3
   },
   "file_extension": ".py",
   "mimetype": "text/x-python",
   "name": "python",
   "nbconvert_exporter": "python",
   "pygments_lexer": "ipython3",
   "version": "3.6.8"
  }
 },
 "nbformat": 4,
 "nbformat_minor": 2
}
